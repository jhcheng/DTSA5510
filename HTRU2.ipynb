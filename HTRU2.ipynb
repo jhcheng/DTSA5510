{
  "nbformat": 4,
  "nbformat_minor": 0,
  "metadata": {
    "colab": {
      "provenance": [],
      "authorship_tag": "ABX9TyPSPjhAtlwg9oJK6TKwypjX",
      "include_colab_link": true
    },
    "kernelspec": {
      "name": "python3",
      "display_name": "Python 3"
    },
    "language_info": {
      "name": "python"
    }
  },
  "cells": [
    {
      "cell_type": "markdown",
      "metadata": {
        "id": "view-in-github",
        "colab_type": "text"
      },
      "source": [
        "<a href=\"https://colab.research.google.com/github/jhcheng/DTSA5510/blob/main/HTRU2.ipynb\" target=\"_parent\"><img src=\"https://colab.research.google.com/assets/colab-badge.svg\" alt=\"Open In Colab\"/></a>"
      ]
    },
    {
      "cell_type": "code",
      "execution_count": null,
      "metadata": {
        "id": "OcnTgm-YUHcc"
      },
      "outputs": [],
      "source": [
        "!pip install ucimlrepo"
      ]
    },
    {
      "cell_type": "code",
      "source": [
        "from ucimlrepo import fetch_ucirepo\n",
        "\n",
        "# fetch dataset\n",
        "htru2 = fetch_ucirepo(id=372)\n",
        "\n",
        "# data (as pandas dataframes)\n",
        "X = htru2.data.features\n",
        "y = htru2.data.targets\n",
        "\n",
        "# metadata\n",
        "print(htru2.metadata)\n",
        "\n",
        "# variable information\n",
        "print(htru2.variables)\n"
      ],
      "metadata": {
        "id": "fXdade3KUbLW"
      },
      "execution_count": null,
      "outputs": []
    },
    {
      "cell_type": "code",
      "source": [],
      "metadata": {
        "id": "2TUalHAwUeeC"
      },
      "execution_count": null,
      "outputs": []
    }
  ]
}